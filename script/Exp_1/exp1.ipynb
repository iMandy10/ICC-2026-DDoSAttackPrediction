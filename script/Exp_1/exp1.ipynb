{
 "cells": [
  {
   "cell_type": "code",
   "execution_count": null,
   "id": "fbbdf1ac",
   "metadata": {
    "vscode": {
     "languageId": "plaintext"
    }
   },
   "outputs": [],
   "source": [
    "!pip install x-transformers"
   ]
  },
  {
   "cell_type": "markdown",
   "id": "c4b97a60",
   "metadata": {},
   "source": [
    "> embeddings analyzed by SGD One-Class SVM"
   ]
  },
  {
   "cell_type": "code",
   "execution_count": null,
   "id": "db682fc4",
   "metadata": {
    "vscode": {
     "languageId": "plaintext"
    }
   },
   "outputs": [],
   "source": [
    "import pandas as pd\n",
    "import numpy as np\n",
    "from sklearn import linear_model\n",
    "from sklearn.metrics import confusion_matrix, classification_report, accuracy_score\n",
    "\n",
    "colunas = [\n",
    "    'total_pacotes', 'total_pacotes_icmp', 'total_pacotes_udp', 'total_pacotes_tcp', 'maior_pacote',\n",
    "    'menor_pacote', 'soma_pacotes', 'total_ips_origem', 'total_ips_destino', 'porta_origem_mais_frequente',\n",
    "    'porta_destino_mais_frequente', 'total_mac_source', 'total_mac_dst', 'ip_version', 'maior_ttl', 'menor_ttl',\n",
    "    'std_ttl', 'mean_ttl', 'total_flags_tcp', 'total_tcp_flags_fin', 'total_tcp_flags_syn', 'total_tcp_flags_reset',\n",
    "    'total_tcp_flags_push', 'total_tcp_flags_ack', 'total_tcp_flags_urg', 'maior_tcp_window_size_value', 'menor_tcp_window_size_value',\n",
    "    'soma_tcp_window_size_value', 'std_tcp_window_size_value', 'mean_tcp_window_size_value', 'maior_tcp_seq', 'menor_tcp_seq', 'soma_tcp_seq',\n",
    "    'std_tcp_seq', 'mean_tcp_seq', 'maior_time_delta', 'menor_time_delta', 'soma_time_delta', 'std_time_delta', 'mean_time_delta',\n",
    "    'maior_tcp_time_delta', 'menor_tcp_time_delta', 'soma_tcp_time_delta', 'std_tcp_time_delta', 'mean_tcp_time_delta', 'maior_tcp_time_relative',\n",
    "    'menor_tcp_time_relative', 'soma_tcp_time_relative', 'std_tcp_time_relative', 'mean_tcp_time_relative'\n",
    "]\n",
    "\n",
    "early_warning_url = \"../../data/early_warning_exp_1.csv\"\n",
    "embeddings_path = \"../../data/embeddings_ex1.npy\"\n",
    "resultados = \"../../data/early_warning_exp_1.csv\"\n",
    "csv_novo = \"resultado_ex1.csv\"\n",
    "\n",
    "\n",
    "df_anterior = pd.read_csv(resultados, sep=\";\")\n",
    "df_novo = df_anterior.copy()\n",
    "\n",
    "early_warning = pd.read_csv(early_warning_url, sep=\";\")\n",
    "embeddings = np.load(embeddings_path)\n",
    "\n",
    "slice_init_melhor_run = 0\n",
    "slice_end_melhor_run = 5632\n",
    "\n",
    "x = embeddings[slice_init_melhor_run:slice_end_melhor_run]\n",
    "y_real = early_warning['has_bot'][slice_init_melhor_run:slice_end_melhor_run].to_numpy()\n",
    "\n",
    "clf = linear_model.SGDOneClassSVM(learning_rate = 'constant', nu = 0.02, eta0= 0.1, random_state=0)\n",
    "\n",
    "preds = []\n",
    "step = 30\n",
    "\n",
    "\n",
    "for i in range(0, len(x), step):\n",
    "    it = x[i:i+step]\n",
    "    if len(it) < 1:\n",
    "        continue\n",
    "    y_test = clf.fit_predict(it)\n",
    "    y_test_final = [0 if label == 1 else 1 for label in y_test]\n",
    "    preds.extend(y_test_final)\n",
    "\n",
    "assert len(preds) == (slice_end_melhor_run - slice_init_melhor_run), \"Error.\"\n",
    "df_resultado_ex1 = early_warning.loc[slice_init_melhor_run:slice_end_melhor_run - 1, colunas].copy()\n",
    "df_resultado_ex1[\"predicted_label\"] = preds\n",
    "df_resultado_ex1[\"real_label\"] = y_real\n",
    "\n",
    "df_resultado_ex1.to_csv(\"/resultado_ex1.csv\", index=False)\n",
    "\n",
    "print(\"\\n- Confusion Matrix:\")\n",
    "print(confusion_matrix(y_real, preds))\n",
    "print(\"\\n- Classification Report: \")\n",
    "print(classification_report(y_real, preds, digits=4, zero_division=0))\n"
   ]
  }
 ],
 "metadata": {
  "language_info": {
   "name": "python"
  }
 },
 "nbformat": 4,
 "nbformat_minor": 5
}
