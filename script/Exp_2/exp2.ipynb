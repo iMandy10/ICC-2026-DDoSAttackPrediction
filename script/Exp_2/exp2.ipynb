{
 "cells": [
  {
   "cell_type": "code",
   "execution_count": null,
   "id": "fbbdf1ac",
   "metadata": {
    "vscode": {
     "languageId": "plaintext"
    }
   },
   "outputs": [],
   "source": [
    "!pip install x-transformers"
   ]
  },
  {
   "cell_type": "markdown",
   "id": "3d0d4d45",
   "metadata": {},
   "source": [
    "> embeddings generation"
   ]
  },
  {
   "cell_type": "code",
   "execution_count": null,
   "id": "fdaedd6b",
   "metadata": {
    "vscode": {
     "languageId": "plaintext"
    }
   },
   "outputs": [],
   "source": [
    "import pandas as pd\n",
    "import torch\n",
    "import numpy as np\n",
    "from x_transformers import ContinuousTransformerWrapper, Encoder\n",
    "from sklearn.preprocessing import RobustScaler\n",
    "import os\n",
    "\n",
    "\n",
    "early_warning_url = \"../../data/early_warning_exp_2.csv\"\n",
    "output_dir = '.'\n",
    "os.makedirs(output_dir, exist_ok=True)\n",
    "\n",
    "colunas = [\n",
    "    'total_pacotes', 'total_pacotes_icmp', 'total_pacotes_udp', 'total_pacotes_tcp', 'maior_pacote',\n",
    "    'menor_pacote', 'soma_pacotes', 'total_ips_origem', 'total_ips_destino', 'porta_origem_mais_frequente',\n",
    "    'porta_destino_mais_frequente', 'total_mac_source', 'total_mac_dst', 'ip_version', 'maior_ttl', 'menor_ttl',\n",
    "    'std_ttl', 'mean_ttl', 'total_flags_tcp', 'total_tcp_flags_fin', 'total_tcp_flags_syn', 'total_tcp_flags_reset',\n",
    "    'total_tcp_flags_push', 'total_tcp_flags_ack', 'total_tcp_flags_urg', 'maior_tcp_window_size_value', 'menor_tcp_window_size_value',\n",
    "    'soma_tcp_window_size_value', 'std_tcp_window_size_value', 'mean_tcp_window_size_value', 'maior_tcp_seq', 'menor_tcp_seq', 'soma_tcp_seq',\n",
    "    'std_tcp_seq', 'mean_tcp_seq', 'maior_time_delta', 'menor_ttime_delta', 'soma_time_delta', 'std_time_delta', 'mean_time_delta',\n",
    "    'maior_tcp_time_delta', 'menor_ttcp_time_delta', 'soma_tcp_time_delta', 'std_tcp_time_delta', 'mean_tcp_time_delta', 'maior_tcp_time_relative',\n",
    "    'menor_ttcp_time_relative', 'soma_tcp_time_relative', 'std_tcp_time_relative', 'mean_tcp_time_relative'\n",
    "]\n",
    "\n",
    "\n",
    "sup, inf = 0, 778\n",
    "\n",
    "early_warning = pd.read_csv(early_warning_url, sep=\";\")\n",
    "x_test_df = early_warning[colunas][sup:inf].copy()\n",
    "\n",
    "scaler = RobustScaler()\n",
    "x_scaled = scaler.fit_transform(x_test_df)\n",
    "x_test_tensor = torch.tensor(x_scaled, dtype=torch.float32).unsqueeze(0)  \n",
    "\n",
    "dim = 12\n",
    "depth = 64\n",
    "heads = 64\n",
    "dim_out = 12\n",
    "num_features = x_test_tensor.shape[2]\n",
    "\n",
    "model = ContinuousTransformerWrapper(\n",
    "    dim_in=num_features,\n",
    "    dim_out=dim_out,\n",
    "    max_seq_len=6000,\n",
    "    attn_layers=Encoder(\n",
    "        dim=dim,\n",
    "        depth=depth,\n",
    "        heads=heads,\n",
    "        dynamic_pos_bias=True\n",
    "    )\n",
    ")\n",
    "\n",
    "def split_sequence(tensor, window_size):\n",
    "    seq_len = tensor.shape[1]\n",
    "    return [tensor[:, i:i+window_size, :] for i in range(0, seq_len, window_size)]\n",
    "\n",
    "windows = split_sequence(x_test_tensor, window_size=30)\n",
    "embeddings_list = []\n",
    "with torch.no_grad():\n",
    "    for window in windows:\n",
    "        mask = torch.ones_like(window[:, :, 0]).bool()\n",
    "        emb = model(window, mask=mask)\n",
    "        embeddings_list.append(emb.squeeze(0).cpu())\n",
    "\n",
    "embeddings = torch.cat(embeddings_list, dim=0).numpy()\n",
    "\n",
    "np.save(f\"{output_dir}/embeddings_ex2.npy\", embeddings)\n",
    "\n",
    "embeddings_df = pd.DataFrame(embeddings, columns=[f\"embedding_{i}\" for i in range(embeddings.shape[1])])\n",
    "embeddings_df.to_csv(f\"{output_dir}/embeddings_ex2.csv\", index=False)\n",
    "\n"
   ]
  },
  {
   "cell_type": "markdown",
   "id": "c4b97a60",
   "metadata": {},
   "source": [
    "> embeddings analyzed by SGD One-Class SVM"
   ]
  },
  {
   "cell_type": "code",
   "execution_count": null,
   "id": "db682fc4",
   "metadata": {
    "vscode": {
     "languageId": "plaintext"
    }
   },
   "outputs": [],
   "source": [
    "import pandas as pd\n",
    "import numpy as np\n",
    "from sklearn import linear_model\n",
    "from sklearn.metrics import confusion_matrix, classification_report, accuracy_score\n",
    "\n",
    "colunas = [\n",
    "    'total_pacotes', 'total_pacotes_icmp', 'total_pacotes_udp', 'total_pacotes_tcp', 'maior_pacote',\n",
    "    'menor_pacote', 'soma_pacotes', 'total_ips_origem', 'total_ips_destino', 'porta_origem_mais_frequente',\n",
    "    'porta_destino_mais_frequente', 'total_mac_source', 'total_mac_dst', 'ip_version', 'maior_ttl', 'menor_ttl',\n",
    "    'std_ttl', 'mean_ttl', 'total_flags_tcp', 'total_tcp_flags_fin', 'total_tcp_flags_syn', 'total_tcp_flags_reset',\n",
    "    'total_tcp_flags_push', 'total_tcp_flags_ack', 'total_tcp_flags_urg', 'maior_tcp_window_size_value', 'menor_tcp_window_size_value',\n",
    "    'soma_tcp_window_size_value', 'std_tcp_window_size_value', 'mean_tcp_window_size_value', 'maior_tcp_seq', 'menor_tcp_seq', 'soma_tcp_seq',\n",
    "    'std_tcp_seq', 'mean_tcp_seq', 'maior_time_delta', 'menor_ttime_delta', 'soma_time_delta', 'std_time_delta', 'mean_time_delta',\n",
    "    'maior_tcp_time_delta', 'menor_ttcp_time_delta', 'soma_tcp_time_delta', 'std_tcp_time_delta', 'mean_tcp_time_delta', 'maior_tcp_time_relative',\n",
    "    'menor_ttcp_time_relative', 'soma_tcp_time_relative', 'std_tcp_time_relative', 'mean_tcp_time_relative'\n",
    "]\n",
    "\n",
    "early_warning_url = \"../../data/early_warning_exp_2.csv\"\n",
    "embeddings_path = \"embeddings_ex2.npy\"\n",
    "resultados = \"../../data/early_warning_exp_2.csv\"\n",
    "csv_novo = \"resultado_ex2.csv\"\n",
    "\n",
    "\n",
    "df_anterior = pd.read_csv(resultados, sep=\";\")\n",
    "df_novo = df_anterior.copy()\n",
    "\n",
    "early_warning = pd.read_csv(early_warning_url, sep=\";\")\n",
    "embeddings = np.load(embeddings_path)\n",
    "\n",
    "slice_init_melhor_run = 0\n",
    "slice_end_melhor_run = 778\n",
    "\n",
    "x = embeddings[slice_init_melhor_run:slice_end_melhor_run]\n",
    "y_real = early_warning['has_bot'][slice_init_melhor_run:slice_end_melhor_run].to_numpy()\n",
    "\n",
    "clf = linear_model.SGDOneClassSVM(learning_rate = 'constant', nu = 0.02, eta0= 0.1, random_state=0)\n",
    "\n",
    "\n",
    "preds = []\n",
    "step = 30\n",
    "\n",
    "\n",
    "for i in range(0, len(x), step):\n",
    "    it = x[i:i+step]\n",
    "    if len(it) < 1:\n",
    "        continue\n",
    "    y_test = clf.fit_predict(it)\n",
    "    y_test_final = [0 if label == 1 else 1 for label in y_test]\n",
    "    preds.extend(y_test_final)\n",
    "\n",
    "assert len(preds) == (slice_end_melhor_run - slice_init_melhor_run), \"Error.\"\n",
    "\n",
    "df_resultado_ocsvm = early_warning.loc[slice_init_melhor_run:slice_end_melhor_run - 1, colunas].copy()\n",
    "df_resultado_ocsvm[\"predicted_label\"] = preds\n",
    "df_resultado_ocsvm[\"real_label\"] = y_real\n",
    "\n",
    "df_resultado_ocsvm.to_csv(\"resultado_ex2.csv\", index=False)\n",
    "\n",
    "print(\"\\n- Confusion Matrix:\")\n",
    "print(confusion_matrix(y_real, preds))\n",
    "print(\"\\n- Classification Report:\")\n",
    "print(classification_report(y_real, preds, digits=4, zero_division=0))\n"
   ]
  }
 ],
 "metadata": {
  "language_info": {
   "name": "python"
  }
 },
 "nbformat": 4,
 "nbformat_minor": 5
}
